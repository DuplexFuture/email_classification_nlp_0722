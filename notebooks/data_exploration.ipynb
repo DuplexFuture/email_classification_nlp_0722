{
 "cells": [
  {
   "cell_type": "code",
   "execution_count": 15,
   "id": "900c6ebb",
   "metadata": {},
   "outputs": [],
   "source": [
    "import pandas as pd\n",
    "import seaborn as sns"
   ]
  },
  {
   "cell_type": "code",
   "execution_count": 2,
   "id": "3140eb74",
   "metadata": {},
   "outputs": [
    {
     "name": "stdout",
     "output_type": "stream",
     "text": [
      "/Users/jackhousego/code/DuplexFuture/email_prep/email_classification_nlp_0722/notebooks\r\n"
     ]
    }
   ],
   "source": [
    "!pwd"
   ]
  },
  {
   "cell_type": "code",
   "execution_count": 7,
   "id": "7956907f",
   "metadata": {},
   "outputs": [
    {
     "data": {
      "text/html": [
       "<div>\n",
       "<style scoped>\n",
       "    .dataframe tbody tr th:only-of-type {\n",
       "        vertical-align: middle;\n",
       "    }\n",
       "\n",
       "    .dataframe tbody tr th {\n",
       "        vertical-align: top;\n",
       "    }\n",
       "\n",
       "    .dataframe thead th {\n",
       "        text-align: right;\n",
       "    }\n",
       "</style>\n",
       "<table border=\"1\" class=\"dataframe\">\n",
       "  <thead>\n",
       "    <tr style=\"text-align: right;\">\n",
       "      <th></th>\n",
       "      <th>S. No.</th>\n",
       "      <th>Message_body</th>\n",
       "      <th>Label</th>\n",
       "    </tr>\n",
       "  </thead>\n",
       "  <tbody>\n",
       "    <tr>\n",
       "      <th>0</th>\n",
       "      <td>1</td>\n",
       "      <td>Rofl. Its true to its name</td>\n",
       "      <td>Non-Spam</td>\n",
       "    </tr>\n",
       "    <tr>\n",
       "      <th>1</th>\n",
       "      <td>2</td>\n",
       "      <td>The guy did some bitching but I acted like i'd...</td>\n",
       "      <td>Non-Spam</td>\n",
       "    </tr>\n",
       "    <tr>\n",
       "      <th>2</th>\n",
       "      <td>3</td>\n",
       "      <td>Pity, * was in mood for that. So...any other s...</td>\n",
       "      <td>Non-Spam</td>\n",
       "    </tr>\n",
       "    <tr>\n",
       "      <th>3</th>\n",
       "      <td>4</td>\n",
       "      <td>Will ü b going to esplanade fr home?</td>\n",
       "      <td>Non-Spam</td>\n",
       "    </tr>\n",
       "    <tr>\n",
       "      <th>4</th>\n",
       "      <td>5</td>\n",
       "      <td>This is the 2nd time we have tried 2 contact u...</td>\n",
       "      <td>Spam</td>\n",
       "    </tr>\n",
       "  </tbody>\n",
       "</table>\n",
       "</div>"
      ],
      "text/plain": [
       "   S. No.                                       Message_body     Label\n",
       "0       1                         Rofl. Its true to its name  Non-Spam\n",
       "1       2  The guy did some bitching but I acted like i'd...  Non-Spam\n",
       "2       3  Pity, * was in mood for that. So...any other s...  Non-Spam\n",
       "3       4               Will ü b going to esplanade fr home?  Non-Spam\n",
       "4       5  This is the 2nd time we have tried 2 contact u...      Spam"
      ]
     },
     "execution_count": 7,
     "metadata": {},
     "output_type": "execute_result"
    }
   ],
   "source": [
    "train_path = \"../raw_data/SMS_train.csv\"\n",
    "test_path = \"../raw_data/SMS_test.csv\"\n",
    "\n",
    "train = pd.read_csv(train_path, encoding = 'latin-1')\n",
    "test = pd.read_csv(test_path, encoding = 'latin-1')\n",
    "train.head()"
   ]
  },
  {
   "cell_type": "code",
   "execution_count": 9,
   "id": "67733371",
   "metadata": {},
   "outputs": [
    {
     "name": "stdout",
     "output_type": "stream",
     "text": [
      "Train shape:  (957, 3)\n",
      "Test shape:  (125, 3)\n"
     ]
    }
   ],
   "source": [
    "print(\"Train shape: \", train.shape)\n",
    "print(\"Test shape: \", test.shape)"
   ]
  },
  {
   "cell_type": "code",
   "execution_count": 14,
   "id": "c4c4dcee",
   "metadata": {},
   "outputs": [
    {
     "name": "stdout",
     "output_type": "stream",
     "text": [
      "Train is null count per column: \n",
      " S. No.          0\n",
      "Message_body    0\n",
      "Label           0\n",
      "dtype: int64\n",
      "Test is null count per column: \n",
      " S. No.          0\n",
      "Message_body    0\n",
      "Label           0\n",
      "dtype: int64\n"
     ]
    }
   ],
   "source": [
    "print(\"Train is null count per column: \\n\", train.isnull().sum())\n",
    "print(\"Test is null count per column: \\n\", test.isnull().sum())"
   ]
  },
  {
   "cell_type": "code",
   "execution_count": 18,
   "id": "e7eda522",
   "metadata": {
    "scrolled": true
   },
   "outputs": [
    {
     "data": {
      "text/plain": [
       "<AxesSubplot:xlabel='Label', ylabel='count'>"
      ]
     },
     "execution_count": 18,
     "metadata": {},
     "output_type": "execute_result"
    },
    {
     "data": {
      "image/png": "[encoded data removed]",
      "text/plain": [
       "<Figure size 432x288 with 1 Axes>"
      ]
     },
     "metadata": {
      "needs_background": "light"
     },
     "output_type": "display_data"
    }
   ],
   "source": [
    "sns.countplot(train['Label'])"
   ]
  },
  {
   "cell_type": "code",
   "execution_count": 24,
   "id": "d42d7e93",
   "metadata": {},
   "outputs": [
    {
     "data": {
      "text/plain": [
       "Non-Spam    835\n",
       "Spam        122\n",
       "Name: Label, dtype: int64"
      ]
     },
     "execution_count": 24,
     "metadata": {},
     "output_type": "execute_result"
    }
   ],
   "source": [
    "train['Label'].value_counts()"
   ]
  },
  {
   "cell_type": "code",
   "execution_count": 21,
   "id": "99e13f21",
   "metadata": {},
   "outputs": [
    {
     "name": "stderr",
     "output_type": "stream",
     "text": [
      "/Users/jackhousego/.pyenv/versions/3.8.13/envs/lewagon/lib/python3.8/site-packages/seaborn/_decorators.py:36: FutureWarning: Pass the following variable as a keyword arg: x. From version 0.12, the only valid positional argument will be `data`, and passing other arguments without an explicit keyword will result in an error or misinterpretation.\n",
      "  warnings.warn(\n"
     ]
    },
    {
     "data": {
      "image/png": "[encoded data removed]",
      "text/plain": [
       "<Figure size 432x288 with 1 Axes>"
      ]
     },
     "metadata": {
      "needs_background": "light"
     },
     "output_type": "display_data"
    }
   ],
   "source": [
    "sns.countplot(test['Label']);"
   ]
  },
  {
   "cell_type": "code",
   "execution_count": 27,
   "id": "3af45b70",
   "metadata": {},
   "outputs": [],
   "source": [
    "# impute target variable \n",
    "\n",
    "target_dict = {'Non-Spam': 0, 'Spam': 1}\n",
    "train['Label'] = train['Label'].map(target_dict)\n",
    "test['Label'] = test['Label'].map(target_dict)"
   ]
  },
  {
   "cell_type": "code",
   "execution_count": 31,
   "id": "a62881f9",
   "metadata": {},
   "outputs": [],
   "source": [
    "from nltk.stem import WordNetLemmatizer\n",
    "from nltk.corpus import stopwords\n",
    "import nltk"
   ]
  },
  {
   "cell_type": "code",
   "execution_count": 30,
   "id": "b8372f85",
   "metadata": {},
   "outputs": [],
   "source": [
    "import re"
   ]
  },
  {
   "cell_type": "code",
   "execution_count": 38,
   "id": "68c4763b",
   "metadata": {},
   "outputs": [],
   "source": [
    "\n",
    "\n",
    "lemma = WordNetLemmatizer()\n",
    "swords = stopwords.words(\"english\")\n",
    "\n",
    "def clean_data(df):\n",
    "    cleaned_data = []\n",
    "    for text in df['Message_body']:\n",
    "        # Remove links from messages\n",
    "        text = re.sub(\"r/http\\S+\", '', text)\n",
    "\n",
    "        # Cleaning everything apart from alphabetical and numerical characters \n",
    "        text = re.sub(\"[^a-zA-Z0-9]\", \" \", text)\n",
    "\n",
    "        # Tokenizing and Lemmatizing\n",
    "        text = nltk.word_tokenize(text.lower())\n",
    "        text = [lemma.lemmatize(word) for word in text]\n",
    "\n",
    "        # removing stop words\n",
    "        text = [word for word in text if word not in swords]\n",
    "\n",
    "        # joining \n",
    "        text = \" \".join(text)\n",
    "\n",
    "        cleaned_data.append(text)   \n",
    "    return cleaned_data"
   ]
  },
  {
   "cell_type": "code",
   "execution_count": 40,
   "id": "83ee5345",
   "metadata": {},
   "outputs": [],
   "source": [
    "cleaned_train = clean_data(train)\n",
    "cleaned_test = clean_data(test)"
   ]
  },
  {
   "cell_type": "code",
   "execution_count": 41,
   "id": "051ba385",
   "metadata": {},
   "outputs": [],
   "source": [
    "import numpy as np"
   ]
  },
  {
   "cell_type": "code",
   "execution_count": 42,
   "id": "3345083a",
   "metadata": {},
   "outputs": [
    {
     "name": "stdout",
     "output_type": "stream",
     "text": [
      "Vocab size: 942\n",
      "Max Sentence size: 339\n"
     ]
    }
   ],
   "source": [
    "vocab_max_size = len(set(cleaned_train))\n",
    "print(f'Vocab size: {vocab_max_size}')\n",
    "\n",
    "max_sentence = np.max([len(i) for i in cleaned_train])\n",
    "print(f'Max Sentence size: {max_sentence}')"
   ]
  },
  {
   "cell_type": "code",
   "execution_count": 46,
   "id": "fbb3e9d5",
   "metadata": {},
   "outputs": [],
   "source": [
    "from keras.preprocessing.sequence import pad_sequences\n",
    "from tensorflow.keras.preprocessing.text import one_hot"
   ]
  },
  {
   "cell_type": "code",
   "execution_count": 47,
   "id": "0d570d42",
   "metadata": {},
   "outputs": [
    {
     "name": "stdout",
     "output_type": "stream",
     "text": [
      "Pad Train shape:  (957, 30)\n",
      "Pad Test shape: (125, 30)\n"
     ]
    }
   ],
   "source": [
    "voc_size = 5000 # this can be altered\n",
    "\n",
    "# convert text to index with padding \n",
    "\n",
    "one_hot_train = [one_hot(words, voc_size) for words in cleaned_train]\n",
    "one_hot_test = [one_hot(words, voc_size) for words in cleaned_test]\n",
    "\n",
    "max_sentence_length = 30 # this can be altered \n",
    "\n",
    "pad_train = pad_sequences(one_hot_train, padding='pre', maxlen=max_sentence_length)\n",
    "pad_test = pad_sequences(one_hot_test, padding='pre', maxlen=max_sentence_length)\n",
    "\n",
    "print(\"Pad Train shape: \", pad_train.shape)\n",
    "print(f\"Pad Test shape: {pad_test.shape}\")"
   ]
  },
  {
   "cell_type": "code",
   "execution_count": 49,
   "id": "a09a8682",
   "metadata": {},
   "outputs": [
    {
     "data": {
      "text/plain": [
       "array([   0,    0,    0,    0,    0,    0,    0,    0,    0,    0,    0,\n",
       "          0,    0,    0,    0,    0,    0, 3004,  412, 4714,  979, 1445,\n",
       "       2973, 4348,  311, 4860, 4982,  318, 2924, 2376], dtype=int32)"
      ]
     },
     "execution_count": 49,
     "metadata": {},
     "output_type": "execute_result"
    }
   ],
   "source": [
    "pad_train[1]"
   ]
  },
  {
   "cell_type": "code",
   "execution_count": 50,
   "id": "ccbf4422",
   "metadata": {},
   "outputs": [],
   "source": [
    "from keras.models import Sequential\n",
    "from keras.layers import LSTM, Dense, Dropout, Masking, Embedding"
   ]
  },
  {
   "cell_type": "code",
   "execution_count": 54,
   "id": "4110670f",
   "metadata": {},
   "outputs": [],
   "source": [
    "from tensorflow.keras.metrics import Recall"
   ]
  },
  {
   "cell_type": "code",
   "execution_count": 55,
   "id": "11b0ddfe",
   "metadata": {},
   "outputs": [],
   "source": [
    "# creating a model:\n",
    "\n",
    "embedding_vector_features = 100\n",
    "model = Sequential()\n",
    "\n",
    "model.add(Embedding(voc_size, embedding_vector_features, input_length=max_sentence_length))\n",
    "model.add(Dropout(0.5))\n",
    "model.add(LSTM(200))\n",
    "model.add(Dropout(0.5))\n",
    "model.add(Dense(1, activation='sigmoid'))\n",
    "model.compile(loss = 'binary_crossentropy', optimizer='adam', metrics=['accuracy', Recall()])"
   ]
  },
  {
   "cell_type": "code",
   "execution_count": 57,
   "id": "ebc7e7bb",
   "metadata": {},
   "outputs": [],
   "source": [
    "# input needs to be an array:\n",
    "\n",
    "X_train = np.array(pad_train)\n",
    "X_test = np.array(pad_test)\n",
    "\n",
    "y_train = np.array(train['Label'])\n",
    "y_test = np.array(test['Label'])"
   ]
  },
  {
   "cell_type": "code",
   "execution_count": null,
   "id": "770a7bc1",
   "metadata": {},
   "outputs": [],
   "source": []
  },
  {
   "cell_type": "code",
   "execution_count": 58,
   "id": "00332207",
   "metadata": {},
   "outputs": [
    {
     "name": "stdout",
     "output_type": "stream",
     "text": [
      "Epoch 1/100\n",
      "15/15 [==============================] - ETA: 0s - loss: 0.2448 - accuracy: 0.8997 - recall: 0.2131  "
     ]
    },
    {
     "name": "stderr",
     "output_type": "stream",
     "text": [
      "2022-07-26 14:02:22.996740: I tensorflow/core/grappler/optimizers/custom_graph_optimizer_registry.cc:113] Plugin optimizer for device_type GPU is enabled.\n",
      "2022-07-26 14:02:23.094591: I tensorflow/core/grappler/optimizers/custom_graph_optimizer_registry.cc:113] Plugin optimizer for device_type GPU is enabled.\n"
     ]
    },
    {
     "name": "stdout",
     "output_type": "stream",
     "text": [
      "15/15 [==============================] - 1s 74ms/step - loss: 0.2448 - accuracy: 0.8997 - recall: 0.2131 - val_loss: 0.4945 - val_accuracy: 0.8000 - val_recall: 0.6711\n",
      "Epoch 2/100\n",
      "15/15 [==============================] - 1s 43ms/step - loss: 0.1568 - accuracy: 0.9624 - recall: 0.7951 - val_loss: 0.3117 - val_accuracy: 0.9200 - val_recall: 0.9342\n",
      "Epoch 3/100\n",
      "15/15 [==============================] - 1s 42ms/step - loss: 0.0998 - accuracy: 0.9781 - recall: 0.8361 - val_loss: 0.2793 - val_accuracy: 0.8800 - val_recall: 0.8026\n",
      "Epoch 4/100\n",
      "15/15 [==============================] - 1s 42ms/step - loss: 0.0423 - accuracy: 0.9916 - recall: 0.9508 - val_loss: 0.1682 - val_accuracy: 0.9440 - val_recall: 0.9079\n",
      "Epoch 5/100\n",
      "15/15 [==============================] - 1s 41ms/step - loss: 0.0271 - accuracy: 0.9927 - recall: 0.9508 - val_loss: 0.2104 - val_accuracy: 0.9280 - val_recall: 0.8816\n",
      "Epoch 6/100\n",
      "15/15 [==============================] - 1s 41ms/step - loss: 0.0154 - accuracy: 0.9969 - recall: 0.9754 - val_loss: 0.1793 - val_accuracy: 0.9280 - val_recall: 0.8816\n",
      "Epoch 7/100\n",
      "15/15 [==============================] - 1s 37ms/step - loss: 0.0070 - accuracy: 0.9990 - recall: 0.9918 - val_loss: 0.2004 - val_accuracy: 0.9280 - val_recall: 0.8816\n",
      "Epoch 8/100\n",
      "15/15 [==============================] - 1s 40ms/step - loss: 0.0054 - accuracy: 0.9990 - recall: 0.9918 - val_loss: 0.2604 - val_accuracy: 0.9280 - val_recall: 0.8816\n",
      "Epoch 9/100\n",
      "15/15 [==============================] - 1s 36ms/step - loss: 0.0043 - accuracy: 0.9990 - recall: 0.9918 - val_loss: 0.1689 - val_accuracy: 0.9360 - val_recall: 0.9079\n",
      "Epoch 10/100\n",
      "15/15 [==============================] - 1s 39ms/step - loss: 0.0012 - accuracy: 1.0000 - recall: 1.0000 - val_loss: 0.3809 - val_accuracy: 0.8960 - val_recall: 0.8289\n",
      "Epoch 11/100\n",
      "15/15 [==============================] - 1s 39ms/step - loss: 6.9689e-04 - accuracy: 1.0000 - recall: 1.0000 - val_loss: 0.2594 - val_accuracy: 0.9200 - val_recall: 0.8816\n",
      "Epoch 12/100\n",
      "15/15 [==============================] - 1s 39ms/step - loss: 5.7229e-04 - accuracy: 1.0000 - recall: 1.0000 - val_loss: 0.3675 - val_accuracy: 0.9200 - val_recall: 0.8684\n",
      "Epoch 13/100\n",
      "15/15 [==============================] - 1s 42ms/step - loss: 3.5282e-04 - accuracy: 1.0000 - recall: 1.0000 - val_loss: 0.3358 - val_accuracy: 0.9280 - val_recall: 0.8816\n",
      "Epoch 14/100\n",
      "15/15 [==============================] - 1s 40ms/step - loss: 3.1691e-04 - accuracy: 1.0000 - recall: 1.0000 - val_loss: 0.3180 - val_accuracy: 0.9280 - val_recall: 0.8816\n",
      "Epoch 15/100\n",
      "15/15 [==============================] - 1s 38ms/step - loss: 1.9337e-04 - accuracy: 1.0000 - recall: 1.0000 - val_loss: 0.4270 - val_accuracy: 0.9200 - val_recall: 0.8684\n",
      "Epoch 16/100\n",
      "15/15 [==============================] - 1s 37ms/step - loss: 1.9808e-04 - accuracy: 1.0000 - recall: 1.0000 - val_loss: 0.3627 - val_accuracy: 0.9280 - val_recall: 0.8816\n",
      "Epoch 17/100\n",
      "15/15 [==============================] - 1s 37ms/step - loss: 1.2517e-04 - accuracy: 1.0000 - recall: 1.0000 - val_loss: 0.3819 - val_accuracy: 0.9280 - val_recall: 0.8816\n",
      "Epoch 18/100\n",
      "15/15 [==============================] - 1s 37ms/step - loss: 9.7678e-05 - accuracy: 1.0000 - recall: 1.0000 - val_loss: 0.4120 - val_accuracy: 0.9200 - val_recall: 0.8684\n",
      "Epoch 19/100\n",
      "15/15 [==============================] - 1s 35ms/step - loss: 2.8888e-04 - accuracy: 1.0000 - recall: 1.0000 - val_loss: 0.2770 - val_accuracy: 0.9360 - val_recall: 0.9079\n",
      "Epoch 20/100\n",
      "15/15 [==============================] - 1s 36ms/step - loss: 0.0058 - accuracy: 0.9979 - recall: 0.9918 - val_loss: 0.1495 - val_accuracy: 0.9280 - val_recall: 0.8816\n",
      "Epoch 21/100\n",
      "15/15 [==============================] - 1s 35ms/step - loss: 0.0056 - accuracy: 1.0000 - recall: 1.0000 - val_loss: 0.5857 - val_accuracy: 0.8320 - val_recall: 0.7237\n",
      "Epoch 22/100\n",
      "15/15 [==============================] - 1s 36ms/step - loss: 0.0027 - accuracy: 0.9990 - recall: 0.9918 - val_loss: 0.1974 - val_accuracy: 0.9360 - val_recall: 0.8947\n",
      "Epoch 23/100\n",
      "15/15 [==============================] - 1s 36ms/step - loss: 8.8680e-04 - accuracy: 1.0000 - recall: 1.0000 - val_loss: 0.2218 - val_accuracy: 0.9360 - val_recall: 0.8947\n",
      "Epoch 24/100\n",
      "15/15 [==============================] - 1s 37ms/step - loss: 3.4381e-04 - accuracy: 1.0000 - recall: 1.0000 - val_loss: 0.3194 - val_accuracy: 0.9120 - val_recall: 0.8553\n",
      "Epoch 25/100\n",
      "15/15 [==============================] - 1s 37ms/step - loss: 1.7935e-04 - accuracy: 1.0000 - recall: 1.0000 - val_loss: 0.3925 - val_accuracy: 0.9040 - val_recall: 0.8421\n",
      "Epoch 26/100\n",
      "15/15 [==============================] - 1s 36ms/step - loss: 1.6264e-04 - accuracy: 1.0000 - recall: 1.0000 - val_loss: 0.4149 - val_accuracy: 0.9040 - val_recall: 0.8421\n",
      "Epoch 27/100\n",
      "15/15 [==============================] - 1s 37ms/step - loss: 1.1881e-04 - accuracy: 1.0000 - recall: 1.0000 - val_loss: 0.4281 - val_accuracy: 0.9040 - val_recall: 0.8421\n",
      "Epoch 28/100\n",
      "15/15 [==============================] - 1s 36ms/step - loss: 1.3508e-04 - accuracy: 1.0000 - recall: 1.0000 - val_loss: 0.4086 - val_accuracy: 0.9120 - val_recall: 0.8553\n",
      "Epoch 29/100\n",
      "15/15 [==============================] - 1s 36ms/step - loss: 1.0838e-04 - accuracy: 1.0000 - recall: 1.0000 - val_loss: 0.4050 - val_accuracy: 0.9120 - val_recall: 0.8553\n",
      "Epoch 30/100\n",
      "15/15 [==============================] - 1s 36ms/step - loss: 1.2747e-04 - accuracy: 1.0000 - recall: 1.0000 - val_loss: 0.3525 - val_accuracy: 0.9280 - val_recall: 0.8816\n",
      "Epoch 31/100\n",
      "15/15 [==============================] - 1s 35ms/step - loss: 9.3926e-05 - accuracy: 1.0000 - recall: 1.0000 - val_loss: 0.3511 - val_accuracy: 0.9280 - val_recall: 0.8816\n",
      "Epoch 32/100\n",
      "15/15 [==============================] - 1s 37ms/step - loss: 1.0444e-04 - accuracy: 1.0000 - recall: 1.0000 - val_loss: 0.3479 - val_accuracy: 0.9280 - val_recall: 0.8816\n",
      "Epoch 33/100\n",
      "15/15 [==============================] - 1s 38ms/step - loss: 7.3224e-05 - accuracy: 1.0000 - recall: 1.0000 - val_loss: 0.3547 - val_accuracy: 0.9280 - val_recall: 0.8816\n",
      "Epoch 34/100\n",
      "15/15 [==============================] - 1s 36ms/step - loss: 7.2598e-05 - accuracy: 1.0000 - recall: 1.0000 - val_loss: 0.3761 - val_accuracy: 0.9280 - val_recall: 0.8816\n",
      "Epoch 35/100\n",
      "15/15 [==============================] - 1s 36ms/step - loss: 6.2661e-05 - accuracy: 1.0000 - recall: 1.0000 - val_loss: 0.3800 - val_accuracy: 0.9280 - val_recall: 0.8816\n",
      "Epoch 36/100\n",
      "15/15 [==============================] - 1s 36ms/step - loss: 5.7374e-05 - accuracy: 1.0000 - recall: 1.0000 - val_loss: 0.3910 - val_accuracy: 0.9200 - val_recall: 0.8684\n",
      "Epoch 37/100\n",
      "15/15 [==============================] - 1s 37ms/step - loss: 5.3989e-05 - accuracy: 1.0000 - recall: 1.0000 - val_loss: 0.4048 - val_accuracy: 0.9120 - val_recall: 0.8553\n",
      "Epoch 38/100\n",
      "15/15 [==============================] - 1s 37ms/step - loss: 1.6827e-04 - accuracy: 1.0000 - recall: 1.0000 - val_loss: 0.3331 - val_accuracy: 0.9440 - val_recall: 0.9079\n",
      "Epoch 39/100\n",
      "15/15 [==============================] - 1s 36ms/step - loss: 6.5645e-05 - accuracy: 1.0000 - recall: 1.0000 - val_loss: 0.3037 - val_accuracy: 0.9360 - val_recall: 0.9079\n",
      "Epoch 40/100\n",
      "15/15 [==============================] - 1s 37ms/step - loss: 8.3927e-05 - accuracy: 1.0000 - recall: 1.0000 - val_loss: 0.3864 - val_accuracy: 0.9280 - val_recall: 0.8816\n",
      "Epoch 41/100\n",
      "15/15 [==============================] - 1s 36ms/step - loss: 4.4986e-05 - accuracy: 1.0000 - recall: 1.0000 - val_loss: 0.4425 - val_accuracy: 0.9120 - val_recall: 0.8553\n",
      "Epoch 42/100\n",
      "15/15 [==============================] - 1s 35ms/step - loss: 3.8069e-05 - accuracy: 1.0000 - recall: 1.0000 - val_loss: 0.4645 - val_accuracy: 0.9120 - val_recall: 0.8553\n",
      "Epoch 43/100\n",
      "15/15 [==============================] - 1s 36ms/step - loss: 6.7375e-05 - accuracy: 1.0000 - recall: 1.0000 - val_loss: 0.4160 - val_accuracy: 0.9120 - val_recall: 0.8553\n",
      "Epoch 44/100\n",
      "15/15 [==============================] - 1s 37ms/step - loss: 3.6099e-05 - accuracy: 1.0000 - recall: 1.0000 - val_loss: 0.4188 - val_accuracy: 0.9120 - val_recall: 0.8553\n",
      "Epoch 45/100\n",
      "15/15 [==============================] - 1s 37ms/step - loss: 3.5839e-05 - accuracy: 1.0000 - recall: 1.0000 - val_loss: 0.4299 - val_accuracy: 0.9120 - val_recall: 0.8553\n"
     ]
    },
    {
     "name": "stdout",
     "output_type": "stream",
     "text": [
      "Epoch 46/100\n",
      "15/15 [==============================] - 1s 37ms/step - loss: 3.8828e-05 - accuracy: 1.0000 - recall: 1.0000 - val_loss: 0.4382 - val_accuracy: 0.9120 - val_recall: 0.8553\n",
      "Epoch 47/100\n",
      "15/15 [==============================] - 1s 36ms/step - loss: 3.0354e-05 - accuracy: 1.0000 - recall: 1.0000 - val_loss: 0.4453 - val_accuracy: 0.9120 - val_recall: 0.8553\n",
      "Epoch 48/100\n",
      "15/15 [==============================] - 1s 36ms/step - loss: 3.6116e-05 - accuracy: 1.0000 - recall: 1.0000 - val_loss: 0.4401 - val_accuracy: 0.9120 - val_recall: 0.8553\n",
      "Epoch 49/100\n",
      "15/15 [==============================] - 1s 35ms/step - loss: 3.6540e-05 - accuracy: 1.0000 - recall: 1.0000 - val_loss: 0.4301 - val_accuracy: 0.9120 - val_recall: 0.8553\n",
      "Epoch 50/100\n",
      "15/15 [==============================] - 1s 35ms/step - loss: 3.2912e-05 - accuracy: 1.0000 - recall: 1.0000 - val_loss: 0.4264 - val_accuracy: 0.9200 - val_recall: 0.8684\n",
      "Epoch 51/100\n",
      "15/15 [==============================] - 1s 35ms/step - loss: 2.7989e-05 - accuracy: 1.0000 - recall: 1.0000 - val_loss: 0.4134 - val_accuracy: 0.9280 - val_recall: 0.8816\n",
      "Epoch 52/100\n",
      "15/15 [==============================] - 1s 37ms/step - loss: 2.6726e-05 - accuracy: 1.0000 - recall: 1.0000 - val_loss: 0.4249 - val_accuracy: 0.9200 - val_recall: 0.8684\n",
      "Epoch 53/100\n",
      "15/15 [==============================] - 1s 35ms/step - loss: 2.5352e-05 - accuracy: 1.0000 - recall: 1.0000 - val_loss: 0.4325 - val_accuracy: 0.9200 - val_recall: 0.8684\n",
      "Epoch 54/100\n",
      "15/15 [==============================] - 1s 35ms/step - loss: 3.1216e-05 - accuracy: 1.0000 - recall: 1.0000 - val_loss: 0.4208 - val_accuracy: 0.9280 - val_recall: 0.8816\n",
      "Epoch 55/100\n",
      "15/15 [==============================] - 1s 36ms/step - loss: 2.7562e-05 - accuracy: 1.0000 - recall: 1.0000 - val_loss: 0.4163 - val_accuracy: 0.9280 - val_recall: 0.8816\n",
      "Epoch 56/100\n",
      "15/15 [==============================] - 1s 34ms/step - loss: 2.7396e-05 - accuracy: 1.0000 - recall: 1.0000 - val_loss: 0.4043 - val_accuracy: 0.9280 - val_recall: 0.8816\n",
      "Epoch 57/100\n",
      "15/15 [==============================] - 1s 35ms/step - loss: 2.3079e-05 - accuracy: 1.0000 - recall: 1.0000 - val_loss: 0.4034 - val_accuracy: 0.9280 - val_recall: 0.8816\n",
      "Epoch 58/100\n",
      "15/15 [==============================] - 1s 35ms/step - loss: 2.0736e-05 - accuracy: 1.0000 - recall: 1.0000 - val_loss: 0.4068 - val_accuracy: 0.9280 - val_recall: 0.8816\n",
      "Epoch 59/100\n",
      "15/15 [==============================] - 1s 35ms/step - loss: 2.0164e-05 - accuracy: 1.0000 - recall: 1.0000 - val_loss: 0.4168 - val_accuracy: 0.9280 - val_recall: 0.8816\n",
      "Epoch 60/100\n",
      "15/15 [==============================] - 1s 36ms/step - loss: 2.0027e-05 - accuracy: 1.0000 - recall: 1.0000 - val_loss: 0.4227 - val_accuracy: 0.9280 - val_recall: 0.8816\n",
      "Epoch 61/100\n",
      "15/15 [==============================] - 1s 56ms/step - loss: 2.1056e-05 - accuracy: 1.0000 - recall: 1.0000 - val_loss: 0.4187 - val_accuracy: 0.9280 - val_recall: 0.8816\n",
      "Epoch 62/100\n",
      "15/15 [==============================] - 1s 36ms/step - loss: 1.6991e-05 - accuracy: 1.0000 - recall: 1.0000 - val_loss: 0.4231 - val_accuracy: 0.9280 - val_recall: 0.8816\n",
      "Epoch 63/100\n",
      "15/15 [==============================] - 1s 36ms/step - loss: 1.8654e-05 - accuracy: 1.0000 - recall: 1.0000 - val_loss: 0.4294 - val_accuracy: 0.9280 - val_recall: 0.8816\n",
      "Epoch 64/100\n",
      "15/15 [==============================] - 1s 36ms/step - loss: 1.7337e-05 - accuracy: 1.0000 - recall: 1.0000 - val_loss: 0.4381 - val_accuracy: 0.9280 - val_recall: 0.8816\n",
      "Epoch 65/100\n",
      "15/15 [==============================] - 1s 35ms/step - loss: 1.8175e-05 - accuracy: 1.0000 - recall: 1.0000 - val_loss: 0.4335 - val_accuracy: 0.9280 - val_recall: 0.8816\n",
      "Epoch 66/100\n",
      "15/15 [==============================] - 1s 35ms/step - loss: 1.6361e-05 - accuracy: 1.0000 - recall: 1.0000 - val_loss: 0.4443 - val_accuracy: 0.9280 - val_recall: 0.8816\n",
      "Epoch 67/100\n",
      "15/15 [==============================] - 1s 35ms/step - loss: 1.5358e-05 - accuracy: 1.0000 - recall: 1.0000 - val_loss: 0.4519 - val_accuracy: 0.9200 - val_recall: 0.8684\n",
      "Epoch 68/100\n",
      "15/15 [==============================] - 1s 35ms/step - loss: 1.8175e-05 - accuracy: 1.0000 - recall: 1.0000 - val_loss: 0.4469 - val_accuracy: 0.9280 - val_recall: 0.8816\n",
      "Epoch 69/100\n",
      "15/15 [==============================] - 1s 35ms/step - loss: 1.5396e-05 - accuracy: 1.0000 - recall: 1.0000 - val_loss: 0.4462 - val_accuracy: 0.9280 - val_recall: 0.8816\n",
      "Epoch 70/100\n",
      "15/15 [==============================] - 1s 35ms/step - loss: 1.6308e-05 - accuracy: 1.0000 - recall: 1.0000 - val_loss: 0.4499 - val_accuracy: 0.9280 - val_recall: 0.8816\n",
      "Epoch 71/100\n",
      "15/15 [==============================] - 1s 35ms/step - loss: 1.8526e-05 - accuracy: 1.0000 - recall: 1.0000 - val_loss: 0.4393 - val_accuracy: 0.9280 - val_recall: 0.8816\n",
      "Epoch 72/100\n",
      "15/15 [==============================] - 1s 37ms/step - loss: 1.6722e-05 - accuracy: 1.0000 - recall: 1.0000 - val_loss: 0.4300 - val_accuracy: 0.9360 - val_recall: 0.8947\n",
      "Epoch 73/100\n",
      "15/15 [==============================] - 1s 37ms/step - loss: 1.4444e-05 - accuracy: 1.0000 - recall: 1.0000 - val_loss: 0.4182 - val_accuracy: 0.9360 - val_recall: 0.8947\n",
      "Epoch 74/100\n",
      "15/15 [==============================] - 1s 37ms/step - loss: 1.6945e-05 - accuracy: 1.0000 - recall: 1.0000 - val_loss: 0.4137 - val_accuracy: 0.9280 - val_recall: 0.8947\n",
      "Epoch 75/100\n",
      "15/15 [==============================] - 1s 35ms/step - loss: 1.3515e-05 - accuracy: 1.0000 - recall: 1.0000 - val_loss: 0.4146 - val_accuracy: 0.9280 - val_recall: 0.8947\n",
      "Epoch 76/100\n",
      "15/15 [==============================] - 1s 34ms/step - loss: 2.8212e-05 - accuracy: 1.0000 - recall: 1.0000 - val_loss: 0.4017 - val_accuracy: 0.9360 - val_recall: 0.9079\n",
      "Epoch 77/100\n",
      "15/15 [==============================] - 1s 36ms/step - loss: 1.2796e-05 - accuracy: 1.0000 - recall: 1.0000 - val_loss: 0.3846 - val_accuracy: 0.9360 - val_recall: 0.9079\n",
      "Epoch 78/100\n",
      "15/15 [==============================] - 1s 36ms/step - loss: 1.2440e-05 - accuracy: 1.0000 - recall: 1.0000 - val_loss: 0.3866 - val_accuracy: 0.9360 - val_recall: 0.9079\n",
      "Epoch 79/100\n",
      "15/15 [==============================] - 1s 35ms/step - loss: 1.4454e-05 - accuracy: 1.0000 - recall: 1.0000 - val_loss: 0.3929 - val_accuracy: 0.9360 - val_recall: 0.9079\n",
      "Epoch 80/100\n",
      "15/15 [==============================] - 1s 35ms/step - loss: 1.3034e-05 - accuracy: 1.0000 - recall: 1.0000 - val_loss: 0.4005 - val_accuracy: 0.9360 - val_recall: 0.9079\n",
      "Epoch 81/100\n",
      "15/15 [==============================] - 1s 36ms/step - loss: 1.1217e-05 - accuracy: 1.0000 - recall: 1.0000 - val_loss: 0.4066 - val_accuracy: 0.9360 - val_recall: 0.9079\n",
      "Epoch 82/100\n",
      "15/15 [==============================] - 1s 35ms/step - loss: 1.1722e-05 - accuracy: 1.0000 - recall: 1.0000 - val_loss: 0.4118 - val_accuracy: 0.9280 - val_recall: 0.8947\n",
      "Epoch 83/100\n",
      "15/15 [==============================] - 1s 37ms/step - loss: 1.2593e-05 - accuracy: 1.0000 - recall: 1.0000 - val_loss: 0.4112 - val_accuracy: 0.9360 - val_recall: 0.9079\n",
      "Epoch 84/100\n",
      "15/15 [==============================] - 1s 36ms/step - loss: 1.8678e-05 - accuracy: 1.0000 - recall: 1.0000 - val_loss: 0.4026 - val_accuracy: 0.9360 - val_recall: 0.9079\n",
      "Epoch 85/100\n",
      "15/15 [==============================] - 1s 36ms/step - loss: 1.2603e-05 - accuracy: 1.0000 - recall: 1.0000 - val_loss: 0.4042 - val_accuracy: 0.9360 - val_recall: 0.9079\n",
      "Epoch 86/100\n",
      "15/15 [==============================] - 1s 34ms/step - loss: 1.0169e-05 - accuracy: 1.0000 - recall: 1.0000 - val_loss: 0.4085 - val_accuracy: 0.9360 - val_recall: 0.9079\n",
      "Epoch 87/100\n",
      "15/15 [==============================] - 1s 36ms/step - loss: 1.0351e-05 - accuracy: 1.0000 - recall: 1.0000 - val_loss: 0.4143 - val_accuracy: 0.9360 - val_recall: 0.9079\n",
      "Epoch 88/100\n",
      "15/15 [==============================] - 1s 37ms/step - loss: 1.2583e-05 - accuracy: 1.0000 - recall: 1.0000 - val_loss: 0.4162 - val_accuracy: 0.9360 - val_recall: 0.9079\n",
      "Epoch 89/100\n",
      "15/15 [==============================] - 1s 36ms/step - loss: 1.0713e-05 - accuracy: 1.0000 - recall: 1.0000 - val_loss: 0.4169 - val_accuracy: 0.9360 - val_recall: 0.9079\n",
      "Epoch 90/100\n"
     ]
    },
    {
     "name": "stdout",
     "output_type": "stream",
     "text": [
      "15/15 [==============================] - 1s 35ms/step - loss: 9.2591e-06 - accuracy: 1.0000 - recall: 1.0000 - val_loss: 0.4217 - val_accuracy: 0.9280 - val_recall: 0.8947\n",
      "Epoch 91/100\n",
      "15/15 [==============================] - 1s 36ms/step - loss: 8.6474e-06 - accuracy: 1.0000 - recall: 1.0000 - val_loss: 0.4261 - val_accuracy: 0.9280 - val_recall: 0.8947\n",
      "Epoch 92/100\n",
      "15/15 [==============================] - 1s 35ms/step - loss: 1.1018e-05 - accuracy: 1.0000 - recall: 1.0000 - val_loss: 0.4266 - val_accuracy: 0.9280 - val_recall: 0.8947\n",
      "Epoch 93/100\n",
      "15/15 [==============================] - 1s 36ms/step - loss: 1.5120e-05 - accuracy: 1.0000 - recall: 1.0000 - val_loss: 0.4155 - val_accuracy: 0.9360 - val_recall: 0.9079\n",
      "Epoch 94/100\n",
      "15/15 [==============================] - 1s 34ms/step - loss: 8.9300e-06 - accuracy: 1.0000 - recall: 1.0000 - val_loss: 0.4110 - val_accuracy: 0.9360 - val_recall: 0.9079\n",
      "Epoch 95/100\n",
      "15/15 [==============================] - 1s 36ms/step - loss: 9.4888e-06 - accuracy: 1.0000 - recall: 1.0000 - val_loss: 0.4146 - val_accuracy: 0.9360 - val_recall: 0.9079\n",
      "Epoch 96/100\n",
      "15/15 [==============================] - 1s 36ms/step - loss: 8.7321e-06 - accuracy: 1.0000 - recall: 1.0000 - val_loss: 0.4200 - val_accuracy: 0.9360 - val_recall: 0.9079\n",
      "Epoch 97/100\n",
      "15/15 [==============================] - 1s 35ms/step - loss: 1.2006e-05 - accuracy: 1.0000 - recall: 1.0000 - val_loss: 0.4229 - val_accuracy: 0.9360 - val_recall: 0.9079\n",
      "Epoch 98/100\n",
      "15/15 [==============================] - 1s 35ms/step - loss: 8.7356e-06 - accuracy: 1.0000 - recall: 1.0000 - val_loss: 0.4245 - val_accuracy: 0.9360 - val_recall: 0.9079\n",
      "Epoch 99/100\n",
      "15/15 [==============================] - 1s 36ms/step - loss: 9.1298e-06 - accuracy: 1.0000 - recall: 1.0000 - val_loss: 0.4276 - val_accuracy: 0.9360 - val_recall: 0.9079\n",
      "Epoch 100/100\n",
      "15/15 [==============================] - 1s 35ms/step - loss: 7.6302e-06 - accuracy: 1.0000 - recall: 1.0000 - val_loss: 0.4280 - val_accuracy: 0.9360 - val_recall: 0.9079\n"
     ]
    },
    {
     "data": {
      "text/plain": [
       "<keras.callbacks.History at 0x16e3e8e50>"
      ]
     },
     "execution_count": 58,
     "metadata": {},
     "output_type": "execute_result"
    }
   ],
   "source": [
    "model.fit(X_train, y_train, validation_data=(X_test, y_test), epochs=100, batch_size=64)"
   ]
  },
  {
   "cell_type": "code",
   "execution_count": null,
   "id": "abec8169",
   "metadata": {},
   "outputs": [],
   "source": []
  }
 ],
 "metadata": {
  "kernelspec": {
   "display_name": "Python 3 (ipykernel)",
   "language": "python",
   "name": "python3"
  },
  "language_info": {
   "codemirror_mode": {
    "name": "ipython",
    "version": 3
   },
   "file_extension": ".py",
   "mimetype": "text/x-python",
   "name": "python",
   "nbconvert_exporter": "python",
   "pygments_lexer": "ipython3",
   "version": "3.8.13"
  },
  "toc": {
   "base_numbering": 1,
   "nav_menu": {},
   "number_sections": true,
   "sideBar": true,
   "skip_h1_title": false,
   "title_cell": "Table of Contents",
   "title_sidebar": "Contents",
   "toc_cell": false,
   "toc_position": {},
   "toc_section_display": true,
   "toc_window_display": false
  }
 },
 "nbformat": 4,
 "nbformat_minor": 5
}
